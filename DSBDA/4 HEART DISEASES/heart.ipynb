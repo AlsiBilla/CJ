{
  "cells": [
    {
      "cell_type": "code",
      "execution_count": null,
      "id": "e0b410a7",
      "metadata": {
        "id": "e0b410a7"
      },
      "outputs": [],
      "source": [
        "# import pandas library\n",
        "import numpy as np\n",
        "import pandas as pd\n",
        "from sklearn.model_selection import train_test_split\n",
        "import matplotlib.pyplot as plt\n",
        "import seaborn as sns\n",
        "from sklearn.preprocessing import LabelEncoder\n",
        "from sklearn.metrics import accuracy_score,confusion_matrix\n",
        "from sklearn.linear_model import LogisticRegression\n",
        "import seaborn as sns\n",
        "import matplotlib.pyplot as plt"
      ]
    },
    {
      "cell_type": "code",
      "execution_count": null,
      "id": "46fadbbf",
      "metadata": {
        "id": "46fadbbf"
      },
      "outputs": [],
      "source": [
        "# Reading csv file\n",
        "df = pd.read_csv(\"Heart.csv\")\n",
        "df.head()"
      ]
    },
    {
      "cell_type": "code",
      "execution_count": null,
      "id": "a8db2f81",
      "metadata": {
        "id": "a8db2f81"
      },
      "outputs": [],
      "source": [
        "df = df.drop_duplicates()"
      ]
    },
    {
      "cell_type": "code",
      "execution_count": null,
      "id": "59ce7501",
      "metadata": {
        "id": "59ce7501"
      },
      "outputs": [],
      "source": [
        "# Count ,min,max ,etc of each column\n",
        "df.describe()"
      ]
    },
    {
      "cell_type": "code",
      "execution_count": null,
      "id": "6689bfc9",
      "metadata": {
        "id": "6689bfc9"
      },
      "outputs": [],
      "source": [
        "# Information about each column data\n",
        "df.info()"
      ]
    },
    {
      "cell_type": "code",
      "execution_count": null,
      "id": "70ebda4c",
      "metadata": {
        "id": "70ebda4c"
      },
      "outputs": [],
      "source": [
        "#Finding null values in each column\n",
        "df.isna().sum()"
      ]
    },
    {
      "cell_type": "code",
      "execution_count": null,
      "id": "2a43f21c",
      "metadata": {
        "id": "2a43f21c",
        "outputId": "c9003ee1-e07b-4a9f-a508-a3de6718b555"
      },
      "outputs": [
        {
          "data": {
            "text/html": [
              "<div>\n",
              "<style scoped>\n",
              "    .dataframe tbody tr th:only-of-type {\n",
              "        vertical-align: middle;\n",
              "    }\n",
              "\n",
              "    .dataframe tbody tr th {\n",
              "        vertical-align: top;\n",
              "    }\n",
              "\n",
              "    .dataframe thead th {\n",
              "        text-align: right;\n",
              "    }\n",
              "</style>\n",
              "<table border=\"1\" class=\"dataframe\">\n",
              "  <thead>\n",
              "    <tr style=\"text-align: right;\">\n",
              "      <th></th>\n",
              "      <th>age</th>\n",
              "      <th>sex</th>\n",
              "      <th>cp</th>\n",
              "      <th>trtbps</th>\n",
              "      <th>chol</th>\n",
              "      <th>fbs</th>\n",
              "      <th>restecg</th>\n",
              "      <th>thalachh</th>\n",
              "      <th>exng</th>\n",
              "      <th>oldpeak</th>\n",
              "      <th>slp</th>\n",
              "      <th>caa</th>\n",
              "      <th>thall</th>\n",
              "      <th>output</th>\n",
              "    </tr>\n",
              "  </thead>\n",
              "  <tbody>\n",
              "    <tr>\n",
              "      <th>0</th>\n",
              "      <td>63</td>\n",
              "      <td>1</td>\n",
              "      <td>3</td>\n",
              "      <td>145</td>\n",
              "      <td>233</td>\n",
              "      <td>1</td>\n",
              "      <td>0</td>\n",
              "      <td>150</td>\n",
              "      <td>0</td>\n",
              "      <td>2.3</td>\n",
              "      <td>0</td>\n",
              "      <td>0</td>\n",
              "      <td>1</td>\n",
              "      <td>1</td>\n",
              "    </tr>\n",
              "    <tr>\n",
              "      <th>1</th>\n",
              "      <td>37</td>\n",
              "      <td>1</td>\n",
              "      <td>2</td>\n",
              "      <td>130</td>\n",
              "      <td>250</td>\n",
              "      <td>0</td>\n",
              "      <td>1</td>\n",
              "      <td>187</td>\n",
              "      <td>0</td>\n",
              "      <td>3.5</td>\n",
              "      <td>0</td>\n",
              "      <td>0</td>\n",
              "      <td>2</td>\n",
              "      <td>1</td>\n",
              "    </tr>\n",
              "    <tr>\n",
              "      <th>2</th>\n",
              "      <td>41</td>\n",
              "      <td>0</td>\n",
              "      <td>1</td>\n",
              "      <td>130</td>\n",
              "      <td>204</td>\n",
              "      <td>0</td>\n",
              "      <td>0</td>\n",
              "      <td>172</td>\n",
              "      <td>0</td>\n",
              "      <td>1.4</td>\n",
              "      <td>2</td>\n",
              "      <td>0</td>\n",
              "      <td>2</td>\n",
              "      <td>1</td>\n",
              "    </tr>\n",
              "    <tr>\n",
              "      <th>3</th>\n",
              "      <td>56</td>\n",
              "      <td>1</td>\n",
              "      <td>1</td>\n",
              "      <td>120</td>\n",
              "      <td>236</td>\n",
              "      <td>0</td>\n",
              "      <td>1</td>\n",
              "      <td>178</td>\n",
              "      <td>0</td>\n",
              "      <td>0.8</td>\n",
              "      <td>2</td>\n",
              "      <td>0</td>\n",
              "      <td>2</td>\n",
              "      <td>1</td>\n",
              "    </tr>\n",
              "    <tr>\n",
              "      <th>4</th>\n",
              "      <td>57</td>\n",
              "      <td>0</td>\n",
              "      <td>0</td>\n",
              "      <td>120</td>\n",
              "      <td>354</td>\n",
              "      <td>0</td>\n",
              "      <td>1</td>\n",
              "      <td>163</td>\n",
              "      <td>1</td>\n",
              "      <td>0.6</td>\n",
              "      <td>2</td>\n",
              "      <td>0</td>\n",
              "      <td>2</td>\n",
              "      <td>1</td>\n",
              "    </tr>\n",
              "  </tbody>\n",
              "</table>\n",
              "</div>"
            ],
            "text/plain": [
              "   age  sex  cp  trtbps  chol  fbs  restecg  thalachh  exng  oldpeak  slp  \\\n",
              "0   63    1   3     145   233    1        0       150     0      2.3    0   \n",
              "1   37    1   2     130   250    0        1       187     0      3.5    0   \n",
              "2   41    0   1     130   204    0        0       172     0      1.4    2   \n",
              "3   56    1   1     120   236    0        1       178     0      0.8    2   \n",
              "4   57    0   0     120   354    0        1       163     1      0.6    2   \n",
              "\n",
              "   caa  thall  output  \n",
              "0    0      1       1  \n",
              "1    0      2       1  \n",
              "2    0      2       1  \n",
              "3    0      2       1  \n",
              "4    0      2       1  "
            ]
          },
          "execution_count": 7,
          "metadata": {},
          "output_type": "execute_result"
        }
      ],
      "source": [
        "df.head()"
      ]
    },
    {
      "cell_type": "code",
      "execution_count": null,
      "id": "f1afe091",
      "metadata": {
        "id": "f1afe091"
      },
      "outputs": [],
      "source": [
        "df.fbs.unique()"
      ]
    },
    {
      "cell_type": "code",
      "execution_count": null,
      "id": "24999168",
      "metadata": {
        "id": "24999168"
      },
      "outputs": [],
      "source": [
        "subSet1 = df[['age','cp','chol','thalachh']]"
      ]
    },
    {
      "cell_type": "code",
      "execution_count": null,
      "id": "a590e78a",
      "metadata": {
        "id": "a590e78a"
      },
      "outputs": [],
      "source": [
        "subSet2 = df[['exng','slp','output']]"
      ]
    },
    {
      "cell_type": "code",
      "execution_count": null,
      "id": "20217b3a",
      "metadata": {
        "id": "20217b3a"
      },
      "outputs": [],
      "source": [
        "merged_df = subSet1.merge(right=subSet2,how='cross')\n",
        "merged_df.head()"
      ]
    },
    {
      "cell_type": "code",
      "execution_count": null,
      "id": "bd13868c",
      "metadata": {
        "id": "bd13868c"
      },
      "outputs": [],
      "source": [
        "df.columns"
      ]
    },
    {
      "cell_type": "code",
      "execution_count": null,
      "id": "c542f148",
      "metadata": {
        "id": "c542f148"
      },
      "outputs": [],
      "source": [
        "def remove_outliers(column):\n",
        "    Q1 = column.quantile(0.25)\n",
        "    Q3 = column.quantile(0.75)\n",
        "    IQR = Q3 - Q1\n",
        "    threshold = 1.5 * IQR\n",
        "    outlier_mask = (column < Q1 - threshold) | (column > Q3 + threshold)\n",
        "    return column[~outlier_mask]"
      ]
    },
    {
      "cell_type": "code",
      "execution_count": null,
      "id": "e71bd64c",
      "metadata": {
        "id": "e71bd64c"
      },
      "outputs": [],
      "source": [
        "# Remove outliers for each column using a loop\n",
        "col_name = ['cp','thalachh','exng','oldpeak','slp','caa']\n",
        "for col in col_name:\n",
        "    df[col] = remove_outliers(df[col])"
      ]
    },
    {
      "cell_type": "code",
      "execution_count": null,
      "id": "6e02c12e",
      "metadata": {
        "id": "6e02c12e"
      },
      "outputs": [],
      "source": [
        "plt.figure(figsize=(10, 6))  # Adjust the figure size if needed\n",
        "\n",
        "for col in col_name:\n",
        "    sns.boxplot(data=df[col])\n",
        "    plt.title(col)\n",
        "    plt.show()"
      ]
    },
    {
      "cell_type": "code",
      "execution_count": null,
      "id": "fa4e07e1",
      "metadata": {
        "id": "fa4e07e1"
      },
      "outputs": [],
      "source": [
        "df = df.dropna()"
      ]
    },
    {
      "cell_type": "code",
      "execution_count": null,
      "id": "450ad726",
      "metadata": {
        "id": "450ad726"
      },
      "outputs": [],
      "source": [
        "df.isna().sum()"
      ]
    },
    {
      "cell_type": "code",
      "execution_count": null,
      "id": "1a83ee0d",
      "metadata": {
        "id": "1a83ee0d"
      },
      "outputs": [],
      "source": [
        "df = df.drop('fbs',axis=1)"
      ]
    },
    {
      "cell_type": "code",
      "execution_count": null,
      "id": "0cffbaf0",
      "metadata": {
        "id": "0cffbaf0"
      },
      "outputs": [],
      "source": [
        "# Compute correlations between features and target\n",
        "correlations = df.corr()['output'].drop('output')\n",
        "\n",
        "# Print correlations\n",
        "print(\"Correlation with the Target:\")\n",
        "print(correlations)\n",
        "print()\n",
        "\n",
        "# Plot correlation heatmap\n",
        "plt.figure(figsize=(8, 6))\n",
        "sns.heatmap(df.corr(), annot=True, cmap='coolwarm')\n",
        "plt.title('Correlation Heatmap')\n",
        "plt.show()"
      ]
    },
    {
      "cell_type": "code",
      "execution_count": null,
      "id": "41ebe434",
      "metadata": {
        "id": "41ebe434"
      },
      "outputs": [],
      "source": [
        "# df.isna().sum()"
      ]
    },
    {
      "cell_type": "code",
      "execution_count": null,
      "id": "b4d2c8ac",
      "metadata": {
        "id": "b4d2c8ac"
      },
      "outputs": [],
      "source": [
        "# splitting data using train test split\n",
        "x = df[['cp','thalachh','exng','oldpeak','slp','caa']]\n",
        "y = df.output\n",
        "x_train,x_test,y_train,y_test=train_test_split(x,y,test_size=0.2,random_state=0)\n",
        "\n",
        "x_train.shape,x_test.shape,y_train.shape,y_test.shape"
      ]
    },
    {
      "cell_type": "code",
      "execution_count": null,
      "id": "89403617",
      "metadata": {
        "id": "89403617"
      },
      "outputs": [],
      "source": [
        "from sklearn.preprocessing import StandardScaler"
      ]
    },
    {
      "cell_type": "code",
      "execution_count": null,
      "id": "f27b0c82",
      "metadata": {
        "id": "f27b0c82"
      },
      "outputs": [],
      "source": [
        "scaler = StandardScaler()"
      ]
    },
    {
      "cell_type": "code",
      "execution_count": null,
      "id": "8299e1c2",
      "metadata": {
        "id": "8299e1c2"
      },
      "outputs": [],
      "source": [
        "x_train_scaled = scaler.fit_transform(x_train)\n",
        "x_test_scaled = scaler.transform(x_test)"
      ]
    },
    {
      "cell_type": "code",
      "execution_count": null,
      "id": "69a1a6ce",
      "metadata": {
        "id": "69a1a6ce"
      },
      "outputs": [],
      "source": [
        "y_train= np.array(y_train).reshape(-1, 1)\n",
        "y_test= np.array(y_test).reshape(-1, 1)"
      ]
    },
    {
      "cell_type": "code",
      "execution_count": null,
      "id": "0d01109d",
      "metadata": {
        "id": "0d01109d"
      },
      "outputs": [],
      "source": [
        "y_train.shape"
      ]
    },
    {
      "cell_type": "code",
      "execution_count": null,
      "id": "9acd4547",
      "metadata": {
        "id": "9acd4547"
      },
      "outputs": [],
      "source": [
        "model = LogisticRegression()\n",
        "model.fit(x_train_scaled, y_train)\n",
        "\n",
        "# Make predictions on the test set\n",
        "y_pred = model.predict(x_test_scaled)\n",
        "\n",
        "# Evaluate the model's accuracy\n",
        "accuracy = accuracy_score(y_test, y_pred)\n",
        "print(\"Accuracy:\", accuracy)"
      ]
    },
    {
      "cell_type": "code",
      "execution_count": null,
      "id": "d00c059e",
      "metadata": {
        "id": "d00c059e"
      },
      "outputs": [],
      "source": [
        "#Classification model using Decision Tree\n",
        "from sklearn.tree import DecisionTreeClassifier\n",
        "tc=DecisionTreeClassifier(criterion='entropy')\n",
        "tc.fit(x_train_scaled,y_train)\n",
        "y_pred=tc.predict(x_test_scaled)\n",
        "\n",
        "print(\"Training Accuracy Score :\",accuracy_score(y_pred,y_test))\n",
        "print(\"Training Confusion Matrix  :\",confusion_matrix(y_pred,y_test))"
      ]
    }
  ],
  "metadata": {
    "kernelspec": {
      "display_name": "dsbda",
      "language": "python",
      "name": "dsbda"
    },
    "language_info": {
      "codemirror_mode": {
        "name": "ipython",
        "version": 3
      },
      "file_extension": ".py",
      "mimetype": "text/x-python",
      "name": "python",
      "nbconvert_exporter": "python",
      "pygments_lexer": "ipython3",
      "version": "3.10.8"
    },
    "colab": {
      "provenance": []
    }
  },
  "nbformat": 4,
  "nbformat_minor": 5
}