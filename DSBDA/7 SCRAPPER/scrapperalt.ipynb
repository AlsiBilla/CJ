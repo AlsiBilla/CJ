{
  "nbformat": 4,
  "nbformat_minor": 0,
  "metadata": {
    "colab": {
      "provenance": []
    },
    "kernelspec": {
      "name": "python3",
      "display_name": "Python 3"
    },
    "language_info": {
      "name": "python"
    }
  },
  "cells": [
    {
      "cell_type": "code",
      "execution_count": null,
      "metadata": {
        "id": "8iYGQsSCMs6k"
      },
      "outputs": [],
      "source": [
        "import requests\n",
        "import bs4"
      ]
    },
    {
      "cell_type": "code",
      "source": [
        "request1=requests.get('https://www.amazon.in/Sterling-Pendant-Necklace-Rhodium-Zirconia/dp/B09XNB3DZX/ref=lp_90919850031_1_1?pf_rd_p=9e034799-55e2-4ab2-b0d0-eb42f95b2d05&pf_rd_r=90ZGNBAAE88Y3XJH8PW6')\n",
        "request1"
      ],
      "metadata": {
        "id": "Wk-5IQLZM4_p"
      },
      "execution_count": null,
      "outputs": []
    },
    {
      "cell_type": "code",
      "source": [
        "request1.content"
      ],
      "metadata": {
        "id": "CyJQiV3yNCoX"
      },
      "execution_count": null,
      "outputs": []
    },
    {
      "cell_type": "code",
      "source": [
        "soup=bs4.BeautifulSoup(request1.text)\n",
        "soup"
      ],
      "metadata": {
        "id": "5N1aUfeINF3x"
      },
      "execution_count": null,
      "outputs": []
    },
    {
      "cell_type": "code",
      "source": [
        "reviews=soup.findAll('div',{'class' : 'a-row'});\n",
        "for review in reviews:\n",
        "  print(review.get_text() + \"\\n\\n\")"
      ],
      "metadata": {
        "id": "zhg6g5VqNOVM"
      },
      "execution_count": null,
      "outputs": []
    },
    {
      "cell_type": "code",
      "source": [
        "ratings = soup.find('span',{'class':'a-size-medium a-color-bas'})\n",
        "print(ratings)"
      ],
      "metadata": {
        "id": "YxdV8zBYNUEz"
      },
      "execution_count": null,
      "outputs": []
    },
    {
      "cell_type": "code",
      "source": [
        "Indivisual_ratings = soup.find_all('div',{'id' : 'averageCustomerReviews'});\n",
        "for indi_rating in Indivisual_ratings:\n",
        "  print(indi_rating.get_text()+ \"\\n\")"
      ],
      "metadata": {
        "id": "D1aWHb2SNY-b"
      },
      "execution_count": null,
      "outputs": []
    },
    {
      "cell_type": "code",
      "source": [
        "customer_name = soup.find_all('div',{'class':'a-profile-content'});\n",
        "for cust_name in customer_name:\n",
        "  print(cust_name.get_text() + \"\\n\")"
      ],
      "metadata": {
        "id": "9-IJ0KqaNc0N"
      },
      "execution_count": null,
      "outputs": []
    }
  ]
}