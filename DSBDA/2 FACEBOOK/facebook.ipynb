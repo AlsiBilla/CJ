{
  "nbformat": 4,
  "nbformat_minor": 0,
  "metadata": {
    "colab": {
      "provenance": []
    },
    "kernelspec": {
      "name": "python3",
      "display_name": "Python 3"
    },
    "language_info": {
      "name": "python"
    }
  },
  "cells": [
    {
      "cell_type": "code",
      "execution_count": 1,
      "metadata": {
        "id": "6dVFO5AfadIN"
      },
      "outputs": [],
      "source": [
        "import pandas as pd"
      ]
    },
    {
      "cell_type": "code",
      "source": [
        "df = pd.read_csv('dataset_Facebook.csv',delimiter=';')"
      ],
      "metadata": {
        "id": "WBbDB3jzb3TN"
      },
      "execution_count": 2,
      "outputs": []
    },
    {
      "cell_type": "code",
      "source": [
        "df"
      ],
      "metadata": {
        "id": "1uYNDEOCb5sF"
      },
      "execution_count": null,
      "outputs": []
    },
    {
      "cell_type": "code",
      "source": [
        "df.describe()"
      ],
      "metadata": {
        "id": "76Y6Axhgb7_i"
      },
      "execution_count": null,
      "outputs": []
    },
    {
      "cell_type": "code",
      "source": [
        "# First subset: Like and Share\n",
        "df_subset_1 = df[['like','share']]\n",
        "df_subset_1"
      ],
      "metadata": {
        "id": "jSomRJP8b-xM"
      },
      "execution_count": null,
      "outputs": []
    },
    {
      "cell_type": "code",
      "source": [
        "# second subset: Comment and Type\n",
        "df_subset_2 = df[['comment','Type']]\n",
        "df_subset_2"
      ],
      "metadata": {
        "id": "lMzBpp96cA3U"
      },
      "execution_count": null,
      "outputs": []
    },
    {
      "cell_type": "code",
      "source": [
        "merged_data  = pd.merge(df_subset_2, df_subset_1, left_on='comment', right_on= 'like')\n",
        "merged_data"
      ],
      "metadata": {
        "id": "FJGtZn2NcDs6"
      },
      "execution_count": null,
      "outputs": []
    },
    {
      "cell_type": "code",
      "source": [
        "# Define a dictionary containing employee data\n",
        "data1 = {\n",
        "'key': ['K0', 'K1', 'K2', 'K3'],\n",
        "'Name':['Jai', 'Princi', 'Gaurav', 'Anuj'],\n",
        "'Age':[27, 24, 22, 32],}\n",
        "# Define a dictionary containing employee data\n",
        "data2 = {\n",
        "'key': ['K0', 'K1', 'K2', 'K3'],\n",
        "'Address':['Nagpur', 'Kanpur', 'Allahabad', 'Kannuaj'],\n",
        "'Qualification':['Btech', 'B.A', 'Bcom', 'B.hons']}\n",
        "# Convert the dictionary into DataFrame\n",
        "data1 = pd.DataFrame(data1)\n",
        "# Convert the dictionary into DataFrame\n",
        "data2 = pd.DataFrame(data2)\n",
        "\n",
        "# print(df, \"\\n\\n\", df1)\n",
        "res = pd.merge(data1, data2, on='key')\n",
        "res"
      ],
      "metadata": {
        "id": "Sf1tPpK2cGH2"
      },
      "execution_count": null,
      "outputs": []
    },
    {
      "cell_type": "code",
      "source": [
        "# Sorting merged_data in descending order wrt 'Like'\n",
        "merged_data.sort_values(by=['like'],ascending=False)"
      ],
      "metadata": {
        "id": "hwg6jALecIt1"
      },
      "execution_count": null,
      "outputs": []
    },
    {
      "cell_type": "code",
      "source": [
        "# Method 1\n",
        "merged_data.transpose()"
      ],
      "metadata": {
        "id": "vVUmPID4cLkm"
      },
      "execution_count": null,
      "outputs": []
    },
    {
      "cell_type": "code",
      "source": [
        "# Method 2\n",
        "merged_data.T"
      ],
      "metadata": {
        "id": "cFHE6GnucQe3"
      },
      "execution_count": null,
      "outputs": []
    },
    {
      "cell_type": "code",
      "source": [
        "df"
      ],
      "metadata": {
        "id": "XjtkU-CBcSX7"
      },
      "execution_count": null,
      "outputs": []
    },
    {
      "cell_type": "code",
      "source": [
        "df.Type.unique()"
      ],
      "metadata": {
        "id": "YgFndaOYcZQK"
      },
      "execution_count": null,
      "outputs": []
    },
    {
      "cell_type": "code",
      "source": [
        "# Reshape\n",
        "# Comment is id_vars and Type is value_vars\n",
        "pd.melt(df, id_vars =['Type'], value_vars =['comment'])"
      ],
      "metadata": {
        "id": "ZE0lOhrFccak"
      },
      "execution_count": null,
      "outputs": []
    },
    {
      "cell_type": "code",
      "source": [
        "df_temp = pd.DataFrame({'foo': ['one', 'one', 'one', 'two', 'two', 'two'],\n",
        "                   'bar': ['A', 'B', 'C', 'A', 'B', 'C'],\n",
        "                   'baz': [1, 2, 3, 4, 5, 6],\n",
        "                   'zoo': ['x', 'y', 'z', 'q', 'w', 't']})\n",
        "df_temp"
      ],
      "metadata": {
        "id": "ZFWMJVyxceSi"
      },
      "execution_count": null,
      "outputs": []
    },
    {
      "cell_type": "code",
      "source": [
        "df_temp.pivot(index='foo', columns='bar', values='baz')"
      ],
      "metadata": {
        "id": "mm3oRUbHchEe"
      },
      "execution_count": null,
      "outputs": []
    }
  ]
}